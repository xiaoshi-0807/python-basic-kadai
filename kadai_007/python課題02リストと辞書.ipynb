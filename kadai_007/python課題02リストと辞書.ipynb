{
  "nbformat": 4,
  "nbformat_minor": 0,
  "metadata": {
    "colab": {
      "provenance": []
    },
    "kernelspec": {
      "name": "python3",
      "display_name": "Python 3"
    },
    "language_info": {
      "name": "python"
    }
  },
  "cells": [
    {
      "cell_type": "code",
      "execution_count": 8,
      "metadata": {
        "colab": {
          "base_uri": "https://localhost:8080/"
        },
        "id": "utu-ig_9Z2SI",
        "outputId": "3a0fbea8-8e38-4047-a685-e04c52354f44"
      },
      "outputs": [
        {
          "output_type": "stream",
          "name": "stdout",
          "text": [
            "['月曜日は晴れです', '火曜日は雨です', '水曜日は晴れです', '木曜日は晴れです', '金曜日は曇りです', '土曜日は曇りのち雨です', '日曜日は雷雨です']\n",
            "{'mon': '晴れ', 'tue': '雨', 'wen': '晴れ', 'thu': '晴れ', 'fri': '曇り', 'sat': '曇りのち雨', 'sun': '雷雨'}\n",
            "水曜日は晴れです\n",
            "晴れ\n"
          ]
        }
      ],
      "source": [
        "array = [\"月曜日は晴れです\", \"火曜日は雨です\", \"水曜日は晴れです\", \"木曜日は晴れです\", \"金曜日は曇りです\", \"土曜日は曇りのち雨です\", \"日曜日は雷雨です\"]\n",
        "dictionary = {\"mon\": \"晴れ\", \"tue\": \"雨\", \"wen\": \"晴れ\", \"thu\": \"晴れ\", \"fri\": \"曇り\", \"sat\": \"曇りのち雨\", \"sun\": \"雷雨\"}\n",
        "\n",
        "print(array)\n",
        "print(dictionary)\n",
        "\n",
        "print(array[2])\n",
        "print(dictionary[\"wen\"])"
      ]
    }
  ]
}