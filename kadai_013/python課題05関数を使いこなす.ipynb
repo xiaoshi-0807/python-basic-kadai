{
  "nbformat": 4,
  "nbformat_minor": 0,
  "metadata": {
    "colab": {
      "provenance": []
    },
    "kernelspec": {
      "name": "python3",
      "display_name": "Python 3"
    },
    "language_info": {
      "name": "python"
    }
  },
  "cells": [
    {
      "cell_type": "code",
      "execution_count": 11,
      "metadata": {
        "colab": {
          "base_uri": "https://localhost:8080/"
        },
        "id": "EgVBj7PLZqpJ",
        "outputId": "5989c8e5-56db-48bc-b893-797859535171"
      },
      "outputs": [
        {
          "output_type": "stream",
          "name": "stdout",
          "text": [
            "489.5\n"
          ]
        }
      ],
      "source": [
        "def total_price(genka,tax:float) -> float:\n",
        "  tax = 0.1\n",
        "  return genka  + genka * tax\n",
        "result = total_price(445,0.1)\n",
        "print(result)"
      ]
    }
  ]
}