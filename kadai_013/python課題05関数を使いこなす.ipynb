{
  "nbformat": 4,
  "nbformat_minor": 0,
  "metadata": {
    "colab": {
      "provenance": []
    },
    "kernelspec": {
      "name": "python3",
      "display_name": "Python 3"
    },
    "language_info": {
      "name": "python"
    }
  },
  "cells": [
    {
      "cell_type": "code",
      "execution_count": 10,
      "metadata": {
        "colab": {
          "base_uri": "https://localhost:8080/"
        },
        "id": "EgVBj7PLZqpJ",
        "outputId": "a327d554-40bd-459a-d94a-e36c02a2c00f"
      },
      "outputs": [
        {
          "output_type": "execute_result",
          "data": {
            "text/plain": [
              "489.5"
            ]
          },
          "metadata": {},
          "execution_count": 10
        }
      ],
      "source": [
        "def total_price(genka,tax:float) -> float:\n",
        "  tax = 0.1\n",
        "  return genka  + genka * tax\n",
        "result = total_price(445,0.1)\n"
        "print(result)"
      ]
    }
  ]
}



