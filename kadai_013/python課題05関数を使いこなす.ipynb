{
  "nbformat": 4,
  "nbformat_minor": 0,
  "metadata": {
    "colab": {
      "provenance": []
    },
    "kernelspec": {
      "name": "python3",
      "display_name": "Python 3"
    },
    "language_info": {
      "name": "python"
    }
  },
  "cells": [
    {
      "cell_type": "code",
      "execution_count": 9,
      "metadata": {
        "colab": {
          "base_uri": "https://localhost:8080/"
        },
        "id": "EgVBj7PLZqpJ",
        "outputId": "ef84558d-df9b-437c-de89-13917fdd0c0a"
      },
      "outputs": [
        {
          "output_type": "stream",
          "name": "stdout",
          "text": [
            "合計489.5円\n"
          ]
        }
      ],
      "source": [
        "def total_price(genka,tax:float) -> float:\n",
        "  tax = 0.1\n",
        "  total = genka  + genka * tax\n",
        "  print(f\"合計{total}円\")\n",
        "total_price(445,0.1)\n"
      ]
    }
  ]
}